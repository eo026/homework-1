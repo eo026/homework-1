{
 "cells": [
  {
   "cell_type": "markdown",
   "metadata": {},
   "source": [
    "# Twitter\n",
    "\n",
    "---\n",
    "\n",
    "Group name: Gruppe E\n",
    "\n",
    "---\n"
   ]
  },
  {
   "cell_type": "markdown",
   "metadata": {},
   "source": []
  },
  {
   "cell_type": "code",
   "execution_count": 1,
   "metadata": {},
   "outputs": [],
   "source": [
    "import tweepy"
   ]
  },
  {
   "cell_type": "code",
   "execution_count": 2,
   "metadata": {},
   "outputs": [],
   "source": [
    "from keys import *"
   ]
  },
  {
   "cell_type": "code",
   "execution_count": 3,
   "metadata": {},
   "outputs": [],
   "source": [
    "import requests\n",
    "\n",
    "client = tweepy.Client( bearer_token=bearer_token, \n",
    "                        consumer_key=consumer_key, \n",
    "                        consumer_secret=consumer_secret, \n",
    "                        access_token=access_token, \n",
    "                        access_token_secret=access_token_secret, \n",
    "                        return_type = requests.Response,\n",
    "                        wait_on_rate_limit=True)"
   ]
  },
  {
   "cell_type": "code",
   "execution_count": 4,
   "metadata": {},
   "outputs": [],
   "source": [
    "my_query = 'from:FiveThirtyEight -is:retweet'"
   ]
  },
  {
   "cell_type": "code",
   "execution_count": 5,
   "metadata": {},
   "outputs": [],
   "source": [
    "tweets = client.search_recent_tweets(query=my_query, \n",
    "                                    tweet_fields=['author_id', 'created_at'],\n",
    "                                     max_results=100)"
   ]
  },
  {
   "cell_type": "code",
   "execution_count": 6,
   "metadata": {},
   "outputs": [],
   "source": [
    "import pandas as pd\n",
    "\n",
    "tweets_dict = tweets.json() \n",
    "\n",
    "tweets_data = tweets_dict['data'] \n",
    "\n",
    "df = pd.json_normalize(tweets_data) "
   ]
  },
  {
   "cell_type": "code",
   "execution_count": 7,
   "metadata": {},
   "outputs": [
    {
     "data": {
      "text/html": [
       "<div>\n",
       "<style scoped>\n",
       "    .dataframe tbody tr th:only-of-type {\n",
       "        vertical-align: middle;\n",
       "    }\n",
       "\n",
       "    .dataframe tbody tr th {\n",
       "        vertical-align: top;\n",
       "    }\n",
       "\n",
       "    .dataframe thead th {\n",
       "        text-align: right;\n",
       "    }\n",
       "</style>\n",
       "<table border=\"1\" class=\"dataframe\">\n",
       "  <thead>\n",
       "    <tr style=\"text-align: right;\">\n",
       "      <th></th>\n",
       "      <th>text</th>\n",
       "      <th>id</th>\n",
       "      <th>author_id</th>\n",
       "      <th>created_at</th>\n",
       "      <th>edit_history_tweet_ids</th>\n",
       "    </tr>\n",
       "  </thead>\n",
       "  <tbody>\n",
       "    <tr>\n",
       "      <th>0</th>\n",
       "      <td>Kyrie Irving's stats aren't worth the drama ht...</td>\n",
       "      <td>1593778112709685249</td>\n",
       "      <td>2303751216</td>\n",
       "      <td>2022-11-19T01:28:07.000Z</td>\n",
       "      <td>[1593778112709685249]</td>\n",
       "    </tr>\n",
       "    <tr>\n",
       "      <th>1</th>\n",
       "      <td>So you think you can explain the election http...</td>\n",
       "      <td>1593772058219057153</td>\n",
       "      <td>2303751216</td>\n",
       "      <td>2022-11-19T01:04:04.000Z</td>\n",
       "      <td>[1593772058219057153]</td>\n",
       "    </tr>\n",
       "    <tr>\n",
       "      <th>2</th>\n",
       "      <td>The Riddler: How many turkey trotters can you ...</td>\n",
       "      <td>1593767277291503616</td>\n",
       "      <td>2303751216</td>\n",
       "      <td>2022-11-19T00:45:04.000Z</td>\n",
       "      <td>[1593767277291503616]</td>\n",
       "    </tr>\n",
       "    <tr>\n",
       "      <th>3</th>\n",
       "      <td>Brazil is the favorite and Messi is the star, ...</td>\n",
       "      <td>1593760739440869376</td>\n",
       "      <td>2303751216</td>\n",
       "      <td>2022-11-19T00:19:05.000Z</td>\n",
       "      <td>[1593760739440869376]</td>\n",
       "    </tr>\n",
       "    <tr>\n",
       "      <th>4</th>\n",
       "      <td>How our 2022 World Cup predictions work: https...</td>\n",
       "      <td>1593752420999630848</td>\n",
       "      <td>2303751216</td>\n",
       "      <td>2022-11-18T23:46:02.000Z</td>\n",
       "      <td>[1593752420999630848]</td>\n",
       "    </tr>\n",
       "    <tr>\n",
       "      <th>...</th>\n",
       "      <td>...</td>\n",
       "      <td>...</td>\n",
       "      <td>...</td>\n",
       "      <td>...</td>\n",
       "      <td>...</td>\n",
       "    </tr>\n",
       "    <tr>\n",
       "      <th>95</th>\n",
       "      <td>.@galendruke takes a look at the unresolved ra...</td>\n",
       "      <td>1592252952596697088</td>\n",
       "      <td>2303751216</td>\n",
       "      <td>2022-11-14T20:27:41.000Z</td>\n",
       "      <td>[1592252952596697088]</td>\n",
       "    </tr>\n",
       "    <tr>\n",
       "      <th>96</th>\n",
       "      <td>Do you buy that … Sen. Raphael Warnock is favo...</td>\n",
       "      <td>1592251043131392001</td>\n",
       "      <td>2303751216</td>\n",
       "      <td>2022-11-14T20:20:05.000Z</td>\n",
       "      <td>[1592251043131392001]</td>\n",
       "    </tr>\n",
       "    <tr>\n",
       "      <th>97</th>\n",
       "      <td>Arizona’s race for governor is still in suspen...</td>\n",
       "      <td>1592235700220735489</td>\n",
       "      <td>2303751216</td>\n",
       "      <td>2022-11-14T19:19:07.000Z</td>\n",
       "      <td>[1592235700220735489]</td>\n",
       "    </tr>\n",
       "    <tr>\n",
       "      <th>98</th>\n",
       "      <td>.@ABC is reporting that Republican Lori Chavez...</td>\n",
       "      <td>1592227444223787010</td>\n",
       "      <td>2303751216</td>\n",
       "      <td>2022-11-14T18:46:19.000Z</td>\n",
       "      <td>[1592227444223787010]</td>\n",
       "    </tr>\n",
       "    <tr>\n",
       "      <th>99</th>\n",
       "      <td>Voters almost universally rejected election de...</td>\n",
       "      <td>1592224622027546625</td>\n",
       "      <td>2303751216</td>\n",
       "      <td>2022-11-14T18:35:06.000Z</td>\n",
       "      <td>[1592224622027546625]</td>\n",
       "    </tr>\n",
       "  </tbody>\n",
       "</table>\n",
       "<p>100 rows × 5 columns</p>\n",
       "</div>"
      ],
      "text/plain": [
       "                                                 text                   id  \\\n",
       "0   Kyrie Irving's stats aren't worth the drama ht...  1593778112709685249   \n",
       "1   So you think you can explain the election http...  1593772058219057153   \n",
       "2   The Riddler: How many turkey trotters can you ...  1593767277291503616   \n",
       "3   Brazil is the favorite and Messi is the star, ...  1593760739440869376   \n",
       "4   How our 2022 World Cup predictions work: https...  1593752420999630848   \n",
       "..                                                ...                  ...   \n",
       "95  .@galendruke takes a look at the unresolved ra...  1592252952596697088   \n",
       "96  Do you buy that … Sen. Raphael Warnock is favo...  1592251043131392001   \n",
       "97  Arizona’s race for governor is still in suspen...  1592235700220735489   \n",
       "98  .@ABC is reporting that Republican Lori Chavez...  1592227444223787010   \n",
       "99  Voters almost universally rejected election de...  1592224622027546625   \n",
       "\n",
       "     author_id                created_at edit_history_tweet_ids  \n",
       "0   2303751216  2022-11-19T01:28:07.000Z  [1593778112709685249]  \n",
       "1   2303751216  2022-11-19T01:04:04.000Z  [1593772058219057153]  \n",
       "2   2303751216  2022-11-19T00:45:04.000Z  [1593767277291503616]  \n",
       "3   2303751216  2022-11-19T00:19:05.000Z  [1593760739440869376]  \n",
       "4   2303751216  2022-11-18T23:46:02.000Z  [1593752420999630848]  \n",
       "..         ...                       ...                    ...  \n",
       "95  2303751216  2022-11-14T20:27:41.000Z  [1592252952596697088]  \n",
       "96  2303751216  2022-11-14T20:20:05.000Z  [1592251043131392001]  \n",
       "97  2303751216  2022-11-14T19:19:07.000Z  [1592235700220735489]  \n",
       "98  2303751216  2022-11-14T18:46:19.000Z  [1592227444223787010]  \n",
       "99  2303751216  2022-11-14T18:35:06.000Z  [1592224622027546625]  \n",
       "\n",
       "[100 rows x 5 columns]"
      ]
     },
     "execution_count": 7,
     "metadata": {},
     "output_type": "execute_result"
    }
   ],
   "source": [
    "df"
   ]
  },
  {
   "cell_type": "code",
   "execution_count": 8,
   "metadata": {},
   "outputs": [],
   "source": [
    "df.to_csv(\"twitter.csv\")"
   ]
  }
 ],
 "metadata": {
  "kernelspec": {
   "display_name": "Python 3.9.13 ('webscraping')",
   "language": "python",
   "name": "python3"
  },
  "language_info": {
   "codemirror_mode": {
    "name": "ipython",
    "version": 3
   },
   "file_extension": ".py",
   "mimetype": "text/x-python",
   "name": "python",
   "nbconvert_exporter": "python",
   "pygments_lexer": "ipython3",
   "version": "3.9.13"
  },
  "orig_nbformat": 4,
  "vscode": {
   "interpreter": {
    "hash": "23c26b7a2936b04aa07d577d4f4463c7d430d7843d0a2f57fef39ec53c0bc1b7"
   }
  }
 },
 "nbformat": 4,
 "nbformat_minor": 2
}
